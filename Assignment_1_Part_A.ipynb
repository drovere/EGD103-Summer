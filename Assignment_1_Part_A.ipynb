{
 "cells": [
  {
   "cell_type": "markdown",
   "id": "eff76990-0797-4508-b51f-fba694fff960",
   "metadata": {
    "deletable": false,
    "editable": false,
    "tags": []
   },
   "source": [
    "# EGD103 Assignment 1 - The Harvesting Robot\n",
    "In this assignment, you will be applying some tasks involving the programming of a small robot that moves in 2D space. The project is inspired by harvesting robots which are becoming increasingly popular in agricultural applications.\n",
    "\n",
    "\n",
    "<img style=\"display: block; margin: 0 auto\" width=\"400\" src=https://howtorobot.com/sites/default/files/2023-03/shutterstock_1995250223.jpg>\n",
    "<p style=\"text-align: center;\"> Source: https://howtorobot.com/expert-insight/harvesting-robots </p>\n",
    "\n",
    "  \n",
    "In order to simplify this programming project, we have placed some restrictions on the robot's motion. The robot is limited to moving one tile on the grid at a time and is limited to moving in four directions: up, down, left and right. Objects can only be placed on grid tiles and can only be collected when the robot is on the same tile as the object.\n",
    "\n",
    "This assignment is split into two parts:\n",
    "* **Part A (6%)** is contained in this template and is due Friday week 2.\n",
    "* **Part B (24%)** will be released in week 3 and is due Friday week 5."
   ]
  },
  {
   "cell_type": "markdown",
   "id": "6d5bb984-02aa-458e-b83f-0308ee7a4078",
   "metadata": {
    "deletable": false,
    "editable": false,
    "tags": []
   },
   "source": [
    "***\n",
    "## Part A: Simple Functions\n",
    "In this section you will be create some simple user-defined functions for the robot. No imports are needed to complete these questions - they can be solved with base Python.\n",
    "\n",
    "For this assignment we will represent position vectors in Python as 2-element tuples. For example, the tuple <code>(5, 2)</code> would represent the position 5 units along the x-axis and 2 units up the y-axis. \n",
    "\n",
    "An important note about Python tuples is that mathematical operators aren't supported. For example, <code>(3, 1) + (0, 1)</code> will not result in the tuple <code>(3, 2)</code>. To operate on the position tuples we will need to create our own user-defined functions. The examples in 1.1 and 1.2 serve as a guide on the basic principles on tuples and user-defined functions that are required to complete Part A."
   ]
  },
  {
   "cell_type": "markdown",
   "id": "34c1d42a-9fca-4229-928d-acac6701d506",
   "metadata": {
    "editable": false,
    "tags": []
   },
   "source": [
    "### 1.1 Move up\n",
    "One useful function for our robot is having the ability to move up. This can be done by increasing the y component of the position tuple by 1. This function has already been implemented for you as an example of how you can work with tuples throughout the assignment."
   ]
  },
  {
   "cell_type": "code",
   "execution_count": null,
   "id": "7efd0974-fdac-47a6-b810-26abe7985669",
   "metadata": {
    "editable": false,
    "tags": []
   },
   "outputs": [],
   "source": [
    "# This has been implemented for you. Do not change it.\n",
    "def move_up(old_position):\n",
    "    (x, y) = old_position # extract x and y components from position tuple\n",
    "    new_position = (x, y + 1) # new position tuple has a y component 1 value higher than before\n",
    "    return new_position"
   ]
  },
  {
   "cell_type": "code",
   "execution_count": null,
   "id": "4bfe6598-6806-4fc2-8613-5b2c2261301a",
   "metadata": {
    "editable": false,
    "tags": []
   },
   "outputs": [],
   "source": [
    "# test case - should return (2, 2)\n",
    "move_up((2,1))"
   ]
  },
  {
   "cell_type": "markdown",
   "id": "70fe9a00-e131-46e6-a581-c99c41622eb7",
   "metadata": {
    "editable": false,
    "tags": []
   },
   "source": [
    "### 1.2 Move down\n",
    "We would also like our robot to be able to move down. This can be done by decreasing the y component of the position tuple by 1. Again, this function has already been implemented for you."
   ]
  },
  {
   "cell_type": "code",
   "execution_count": null,
   "id": "e2baf265-443c-4eda-a061-b64f1a0987d0",
   "metadata": {
    "editable": false,
    "tags": []
   },
   "outputs": [],
   "source": [
    "# this has been implemented for you. Do not change it.\n",
    "def move_down(old_position):\n",
    "    (x, y) = old_position\n",
    "    new_position = (x, y - 1)\n",
    "    return new_position"
   ]
  },
  {
   "cell_type": "code",
   "execution_count": null,
   "id": "0c902017-9dfd-431d-af55-a71a039c0b76",
   "metadata": {
    "editable": false,
    "tags": []
   },
   "outputs": [],
   "source": [
    "# test case - should return (2,0)\n",
    "move_down((2,1)) "
   ]
  },
  {
   "cell_type": "markdown",
   "id": "41f0b259-6682-42ae-b5a0-da239fcc6f41",
   "metadata": {
    "deletable": false,
    "editable": false,
    "tags": []
   },
   "source": [
    "### 1.3 Move right (1 mark)\n",
    "Next, we would like our robot to be able to move to the right. This can be done by increasing the x component of the position tuple by 1. You will have to implement this solution yourself! Replace the pass statement provided with your own solution. Hint: the previous two examples should help.\n",
    "\n",
    "<div style=\"color:#990000\"><b>Task:</b> Create a function that accepts a position tuple and outputs the updated position tuple after moving one element to the right. Run is against the test case to ensure it is working correctly."
   ]
  },
  {
   "cell_type": "code",
   "execution_count": null,
   "id": "3a425709-b7ae-45cc-9091-2da133450ee6",
   "metadata": {
    "deletable": true,
    "tags": []
   },
   "outputs": [],
   "source": [
    "def move_right(old_position):\n",
    "    # replace pass with your own code\n",
    "    pass"
   ]
  },
  {
   "cell_type": "code",
   "execution_count": null,
   "id": "b61854d1-a637-4159-8eb6-c9a7641ceb4a",
   "metadata": {
    "editable": false,
    "tags": []
   },
   "outputs": [],
   "source": [
    "# test case - should return (3,1)\n",
    "move_right((2,1)) "
   ]
  },
  {
   "cell_type": "code",
   "execution_count": null,
   "id": "363527b8-3aa6-4479-8437-62a9542e73d4",
   "metadata": {
    "deletable": false,
    "editable": false
   },
   "outputs": [],
   "source": [
    "# test case - should return (6,4)\n",
    "move_right((5,4)) "
   ]
  },
  {
   "cell_type": "markdown",
   "id": "c4b5ed38-26d2-4285-b581-14d10037462a",
   "metadata": {
    "deletable": false,
    "editable": false,
    "tags": []
   },
   "source": [
    "### 1.4 Move left (1 mark)\n",
    "The final movement option for the robot is to move left. This can be done by decreasing the x component of the position tuple by 1. \n",
    "\n",
    "<div style=\"color:#990000\"><b>Task:</b> Create a function that accepts a position tuple and outputs the updated position tuple after moving one element to the left. Run is against the test case to ensure it is working correctly."
   ]
  },
  {
   "cell_type": "code",
   "execution_count": null,
   "id": "4860ba0b-73d2-47e9-8834-1c8c5da291c9",
   "metadata": {},
   "outputs": [],
   "source": [
    "def move_left(old_position):\n",
    "    # replace pass with your own code\n",
    "    pass"
   ]
  },
  {
   "cell_type": "code",
   "execution_count": null,
   "id": "e9be1a8a-3a78-4432-8fc6-0ab38156394e",
   "metadata": {
    "deletable": false,
    "editable": false,
    "tags": []
   },
   "outputs": [],
   "source": [
    "# test case - should return (1,1)\n",
    "move_left((2, 1)) "
   ]
  },
  {
   "cell_type": "code",
   "execution_count": null,
   "id": "f3f3f822-c802-4293-81da-35bebef25818",
   "metadata": {
    "deletable": false,
    "editable": false
   },
   "outputs": [],
   "source": [
    "# test case - should return (2, 7)\n",
    "move_left((3, 7)) "
   ]
  },
  {
   "cell_type": "markdown",
   "id": "b60a7d86-b342-4b25-9b2c-4dfccb948f4b",
   "metadata": {
    "deletable": false,
    "editable": false,
    "tags": []
   },
   "source": [
    "### 1.5 Computing displacement (1 mark)\n",
    "In order to find each object on the board, you will need to compute the displacement between each object and the robot. This can be performed through vector subtraction:\n",
    "$$\\vec{AB} = \\vec{b} - \\vec{a} = \\begin{bmatrix}b_x - a_x\\\\b_y - a_y\\end{bmatrix} $$\n",
    "where:\n",
    "* $\\vec{AB}$ is the displacement vector that points from object A to object B\n",
    "* $\\vec{b}$ is the position vector for object B\n",
    "* $\\vec{a}$ is the position vector for object A\n",
    "\n",
    "<div style=\"color:#990000\"><b>Task:</b> Create a function that accepts two input position tuples: one for the robot and one for the object to be collected. The function should return a tuple of the displacement vector that points from the robot to the object."
   ]
  },
  {
   "cell_type": "code",
   "execution_count": null,
   "id": "e24d3352-aef3-4fff-98a4-2049b83a9321",
   "metadata": {
    "tags": []
   },
   "outputs": [],
   "source": [
    "def compute_object_displacement(robot_position, object_position):\n",
    "    # replace pass with your own code\n",
    "    pass"
   ]
  },
  {
   "cell_type": "code",
   "execution_count": null,
   "id": "1f75f966-c0c9-4dec-be28-1c25ca208670",
   "metadata": {
    "deletable": false,
    "editable": false,
    "tags": []
   },
   "outputs": [],
   "source": [
    "# test case 1 - should return (2, 4)\n",
    "compute_object_displacement((1, 2), (3, 6))"
   ]
  },
  {
   "cell_type": "code",
   "execution_count": null,
   "id": "8cb3cd52-69bc-4cde-824c-142fd48c700b",
   "metadata": {
    "editable": false,
    "tags": []
   },
   "outputs": [],
   "source": [
    "# test case 2 - should return (2, -9)\n",
    "compute_object_displacement((-2, 4), (0, -5))"
   ]
  },
  {
   "cell_type": "markdown",
   "id": "a5ae01a1-1e45-43d9-9749-1186ce6adaf4",
   "metadata": {
    "deletable": false,
    "editable": false,
    "tags": []
   },
   "source": [
    "### 1.6 Computing distance (1 mark)\n",
    "A simple way to ensure the robot collects objects efficiently is to always collect the object that is nearest to the robot. Since the robot can only move up, down, left or right, we can not use standard Euclidean distance as a measure. Instead, we need to use $L_1$ distance (also commonly known as taxicab or Manhattan distance), which is given by:\n",
    "$$ d(\\vec{a},\\vec{b}) = |b_x - a_x| + |b_y - a_y|$$\n",
    "where $d(\\vec{a},\\vec{b})$ is the distance between objects at position $\\vec{a}$ and position $\\vec{b}$\n",
    "\n",
    "More information can be found here if needed: https://en.wikipedia.org/wiki/Taxicab_geometry\n",
    "\n",
    "<div style=\"color:#990000\"><b>Task:</b> Create a function that accepts two input position tuples: one for the robot and one for the object to be collected. The function should return the L1 distance between the two objects."
   ]
  },
  {
   "cell_type": "code",
   "execution_count": null,
   "id": "a2cf4b35-a69d-47e0-a0de-c02a4f1b49a9",
   "metadata": {
    "tags": []
   },
   "outputs": [],
   "source": [
    "def compute_L1_distance(robot_position, object_position):\n",
    "    # replace pass with your own code\n",
    "    pass"
   ]
  },
  {
   "cell_type": "code",
   "execution_count": null,
   "id": "271956f4-77db-40bd-9015-5ac6b8027a16",
   "metadata": {
    "deletable": false,
    "editable": false,
    "tags": []
   },
   "outputs": [],
   "source": [
    "# test case 1 - should return 6\n",
    "compute_L1_distance((1, 2), (3, 6))"
   ]
  },
  {
   "cell_type": "code",
   "execution_count": null,
   "id": "268c7408-ca02-409d-ad3f-0701aa2010e0",
   "metadata": {
    "deletable": false,
    "editable": false,
    "tags": []
   },
   "outputs": [],
   "source": [
    "# test case 2 - should return 5\n",
    "compute_L1_distance((1, 2), (-2, 4))"
   ]
  },
  {
   "cell_type": "markdown",
   "id": "b8ef84f2-e68b-460f-8b7e-bb8ac1e73126",
   "metadata": {
    "deletable": false,
    "editable": false,
    "tags": []
   },
   "source": [
    "### 1.7 Moving the robot towards target object (2 marks)\n",
    "Once the robot has identified the location of an object, in must then move towards it. You should do this with the following algorithm:\n",
    "1. Compute the displacement $\\vec{d}$ from the robot to the target object.\n",
    "2. Based on the displacement vector, you need to specify whether to move up, down, left or right. In the event the robot needs to move horizontally and vertically, it should choose the vertical option. Since you are selecting between different options, you should be utilising an if statement.\n",
    "3. Return the new position tuple of the robot after moving one tile towards the object. If the robot and object have the same position, the function should return <code>None</code>.\n",
    "\n",
    "Hint: You have already defined many of the tasks required for this problem. Call your user-defined functions from sections 1.1-1.6 to simplify this task.\n",
    "\n",
    "<div style=\"color:#990000\"><b>Task:</b> Create a function with two arguments: a robot position tuple and an object position tuple. The function should return the robot position tuple after moving one unit towards the target object, according to the algorithm described above."
   ]
  },
  {
   "cell_type": "code",
   "execution_count": null,
   "id": "d93b9fe6-86a8-4fd0-a4fe-6a047def8c16",
   "metadata": {},
   "outputs": [],
   "source": [
    "def move_robot(robot_position, object_position):\n",
    "    # replace pass with your own code\n",
    "    pass"
   ]
  },
  {
   "cell_type": "code",
   "execution_count": null,
   "id": "df5b53f0-7b32-4763-a9da-78f699d5543e",
   "metadata": {
    "deletable": false,
    "editable": false
   },
   "outputs": [],
   "source": [
    "# test case 1 - should return (4, 3) \n",
    "move_robot((4, 2), (4, 8))"
   ]
  },
  {
   "cell_type": "code",
   "execution_count": null,
   "id": "c08daf39-b096-4d17-9598-0f2bf3d33720",
   "metadata": {
    "deletable": false,
    "editable": false,
    "tags": []
   },
   "outputs": [],
   "source": [
    "# test case 2 - should return (6, 6) \n",
    "move_robot((7, 6), (2, 6))"
   ]
  },
  {
   "cell_type": "code",
   "execution_count": null,
   "id": "6f44eac1-a0f7-47d5-8b55-8655c29b71cf",
   "metadata": {
    "deletable": false,
    "editable": false,
    "tags": []
   },
   "outputs": [],
   "source": [
    "# test case 3 - should return (0, 1)\n",
    "move_robot((0, 0), (5, 7))"
   ]
  },
  {
   "cell_type": "code",
   "execution_count": null,
   "id": "2f241a31-5242-48be-a030-0bbce4bf4690",
   "metadata": {
    "deletable": false,
    "editable": false,
    "tags": []
   },
   "outputs": [],
   "source": [
    "# test case 4 - should return (8, 6) \n",
    "move_robot((8, 7), (5, 1))"
   ]
  },
  {
   "cell_type": "code",
   "execution_count": null,
   "id": "87f704a1-7adf-4689-9277-5bcc94598916",
   "metadata": {
    "deletable": false,
    "editable": false,
    "tags": []
   },
   "outputs": [],
   "source": [
    "# test case 5 - should return None\n",
    "move_robot((9, 2), (9, 2))"
   ]
  }
 ],
 "metadata": {
  "kernelspec": {
   "display_name": "Python 3 (ipykernel)",
   "language": "python",
   "name": "python3"
  },
  "language_info": {
   "codemirror_mode": {
    "name": "ipython",
    "version": 3
   },
   "file_extension": ".py",
   "mimetype": "text/x-python",
   "name": "python",
   "nbconvert_exporter": "python",
   "pygments_lexer": "ipython3",
   "version": "3.11.9"
  }
 },
 "nbformat": 4,
 "nbformat_minor": 5
}
