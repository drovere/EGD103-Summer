{
 "cells": [
  {
   "cell_type": "markdown",
   "id": "27a5a143-06b1-4c40-b5d8-3d68f84739c2",
   "metadata": {},
   "source": [
    "# Lecture 7 of 9 - Summarising Data\n",
    "In this lecture we will look at summarising data in Pandas. The dataset we will be using contains information about domestic flights in Australia. The import is provided below."
   ]
  },
  {
   "cell_type": "code",
   "execution_count": null,
   "id": "3ef24975-abea-4bc1-a4cf-731f6f6eb5be",
   "metadata": {
    "tags": []
   },
   "outputs": [],
   "source": [
    "import pandas as pd\n",
    "flights = pd.read_csv('domestic_flights.csv')\n",
    "flights"
   ]
  },
  {
   "cell_type": "markdown",
   "id": "21d58604-e14e-4826-a34b-795a6f3a3183",
   "metadata": {},
   "source": [
    "## Computed Columns\n",
    "Create the following computed columns:\n",
    "* Passenger load factor - describes the percentage of seats filled.\n",
    "* Monthly distance - describes the total distance flown for that month.\n",
    "* Month name\n",
    "* Year"
   ]
  },
  {
   "cell_type": "code",
   "execution_count": null,
   "id": "80119b72-2be9-48cb-a05b-35d67b81a4fd",
   "metadata": {},
   "outputs": [],
   "source": []
  },
  {
   "cell_type": "markdown",
   "id": "a8806ab0-3066-4f01-8ee5-db3a149976e1",
   "metadata": {},
   "source": [
    "## Aggregates\n",
    "Use aggregation to answer the following questions:\n",
    "* What is the total distance flown by all aircraft in the data?\n",
    "* What are the 5 most popular flight routes in the dataframe by total passenger trips?\n",
    "* What is the newest flight route in the data?\n",
    "* What is the mean and standard deviation of passenger load factor?\n",
    "* In what years was passenger load factor at its lowest?\n",
    "* What are the total number of passenger trips for each route involving Sydney in 2018?"
   ]
  },
  {
   "cell_type": "code",
   "execution_count": null,
   "id": "3a421b84-f0a0-4f3a-a692-24d5e9345f75",
   "metadata": {},
   "outputs": [],
   "source": []
  },
  {
   "cell_type": "markdown",
   "id": "b8fadeaa-4d78-4868-a84d-9d2e8bbc3df5",
   "metadata": {},
   "source": [
    "## Visuals\n",
    "Use data visuals to answer the following questions:\n",
    "* How do the total number of passenger trips and seats vary for each month vary with time in the data?\n",
    "* What percentage of annual flights come in each month of the year?\n",
    "* What is the relationship between passenger trips and aircraft trips?\n",
    "* How many people flew on each Brisbane route in 2018?"
   ]
  },
  {
   "cell_type": "code",
   "execution_count": null,
   "id": "ba25abb3-ce47-467f-8f54-3fc4caaf1ece",
   "metadata": {},
   "outputs": [],
   "source": []
  }
 ],
 "metadata": {
  "kernelspec": {
   "display_name": "Python 3 (ipykernel)",
   "language": "python",
   "name": "python3"
  },
  "language_info": {
   "codemirror_mode": {
    "name": "ipython",
    "version": 3
   },
   "file_extension": ".py",
   "mimetype": "text/x-python",
   "name": "python",
   "nbconvert_exporter": "python",
   "pygments_lexer": "ipython3",
   "version": "3.12.8"
  }
 },
 "nbformat": 4,
 "nbformat_minor": 5
}
