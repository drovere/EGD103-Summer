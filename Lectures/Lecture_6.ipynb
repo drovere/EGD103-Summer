{
 "cells": [
  {
   "cell_type": "markdown",
   "id": "85b3536d-214c-434a-9044-dcccddebf8bf",
   "metadata": {},
   "source": [
    "# Lecture 6 of 9 - Pandas Fundamentals"
   ]
  },
  {
   "cell_type": "code",
   "execution_count": 2,
   "id": "95df7ef0-4dbd-46f2-a62a-6eb7cf3b054f",
   "metadata": {
    "tags": []
   },
   "outputs": [],
   "source": [
    "import pandas as pd"
   ]
  },
  {
   "cell_type": "markdown",
   "id": "0aa21d14-fee5-4004-8615-eb5dfa53258b",
   "metadata": {
    "tags": []
   },
   "source": [
    "## Importing Data\n",
    "For this lecture we will be analysing the 'LSTM-Multivariate_pollution.csv' dataset from Canvas. Make sure this file is uploaded in your current JupyterLab folder before continuing. Then use the <code>read_csv</code> function to import as a dataframe."
   ]
  },
  {
   "cell_type": "code",
   "execution_count": 1,
   "id": "19b95877-04f5-43a6-a77f-6c5bf9d9c58d",
   "metadata": {
    "tags": []
   },
   "outputs": [],
   "source": [
    "# import the data using the read_csv function"
   ]
  },
  {
   "cell_type": "markdown",
   "id": "e9de078a-bd41-40f5-80e8-670122983502",
   "metadata": {},
   "source": [
    "## Inspecting Data\n",
    "Use data inspection tools to answer the following questions:\n",
    "1. How many observations are in the data?\n",
    "2. How many columns are in the data?\n",
    "3. What are the column names?\n",
    "4. What is the data type of each column?\n",
    "5. What is the dataframe index? What data type does it have?"
   ]
  },
  {
   "cell_type": "code",
   "execution_count": null,
   "id": "9193a5c7-185f-47cd-b8a5-c05e8a6675e3",
   "metadata": {},
   "outputs": [],
   "source": [
    "# insert data inspection code"
   ]
  },
  {
   "cell_type": "markdown",
   "id": "ab98bf07-2575-410f-9757-d0576597a3ee",
   "metadata": {},
   "source": [
    "## Selecting Data\n",
    "Data can be selected by label using <code>loc</code> or by index using <code>iloc</code>.\n",
    "\n",
    "General syntax for <code>loc</code> is </code>df_name.loc[row_label, col_label]</code>\n",
    "\n",
    "General syntax for <code>iloc</code> is </code>df_name.iloc[row_index, col_index]</code>"
   ]
  },
  {
   "cell_type": "code",
   "execution_count": 29,
   "id": "1772f5bf-9391-425d-aa8c-472a283a94f1",
   "metadata": {
    "tags": []
   },
   "outputs": [],
   "source": [
    "# select the temp column"
   ]
  },
  {
   "cell_type": "code",
   "execution_count": null,
   "id": "66ace2d9-22d3-4a1b-8815-440ab7a881e4",
   "metadata": {},
   "outputs": [],
   "source": [
    "# select the row at 1/01/2012 0:00"
   ]
  },
  {
   "cell_type": "code",
   "execution_count": null,
   "id": "e10fe9cf-84a4-4d55-be91-0784d84d6dba",
   "metadata": {},
   "outputs": [],
   "source": [
    "# select the pollution at 5/03/2013 21:00"
   ]
  },
  {
   "cell_type": "code",
   "execution_count": null,
   "id": "b462d47d-2763-4b3d-9347-7278c8492fa0",
   "metadata": {},
   "outputs": [],
   "source": [
    "# select all observations from March 2011"
   ]
  },
  {
   "cell_type": "code",
   "execution_count": null,
   "id": "c4e7fb1e-6ce3-443e-9b22-3ecd6d187306",
   "metadata": {},
   "outputs": [],
   "source": [
    "# select the element in the 100th row and the 4th column"
   ]
  },
  {
   "cell_type": "markdown",
   "id": "d5209312-54b7-4e7e-b5dc-07dab296a3cb",
   "metadata": {},
   "source": [
    "## Filtering Data\n",
    "Data can be filtered using Boolean arrays just like you saw with NumPy arrays last week. This allows for data to be selected if a certain condition is True. \n",
    "\n",
    "The general syntax is <code>df_name[condition]</code> and reads select the dataframe for each row where the condition is True.\n"
   ]
  },
  {
   "cell_type": "code",
   "execution_count": null,
   "id": "c12d6926-0a6d-4bcc-a451-2c1910a62c67",
   "metadata": {},
   "outputs": [],
   "source": [
    "# select all rows where the temperature is below zero"
   ]
  },
  {
   "cell_type": "code",
   "execution_count": null,
   "id": "956779ee-8d7f-41e4-9390-838fb3dcb6c7",
   "metadata": {},
   "outputs": [],
   "source": [
    "# select all the rows where there is snow"
   ]
  },
  {
   "cell_type": "code",
   "execution_count": null,
   "id": "736221ae-406f-411c-9584-316b54ded218",
   "metadata": {},
   "outputs": [],
   "source": [
    "# select all rows that are below zero and don't have snow"
   ]
  },
  {
   "cell_type": "code",
   "execution_count": null,
   "id": "007e08dd-1f98-4254-b2f7-25f1036e1e79",
   "metadata": {},
   "outputs": [],
   "source": [
    "# select all rows that have rain or snow"
   ]
  },
  {
   "cell_type": "markdown",
   "id": "7ec3596f-98a1-4ce9-85cf-d8a8fb253c8b",
   "metadata": {},
   "source": [
    "## Computed Columns\n",
    "A computed column is a column that is calculated based on other columns in the dataframe. These are generally calculated by using element-wise operators (you should remember these from when you learned about arrays). If you need to define you own custom function for computations, it can be applied element-wise by calling the <code>apply</code> method."
   ]
  },
  {
   "cell_type": "code",
   "execution_count": null,
   "id": "aebf3b6a-aa0c-48d6-91f0-629674922fc1",
   "metadata": {},
   "outputs": [],
   "source": [
    "# create a new column that includes the pressure measured in atmospheres \n",
    "# (note: the current pressure column is measured in millibars)."
   ]
  },
  {
   "cell_type": "code",
   "execution_count": null,
   "id": "88c6f52d-a338-4b70-b5d0-3ce2f1486d2b",
   "metadata": {},
   "outputs": [],
   "source": [
    "# create a new column that specified whether the temperatures is above or below freezing point (0 degrees)"
   ]
  },
  {
   "cell_type": "markdown",
   "id": "fc1a8265-326d-42bf-bb31-646bbb6acbe6",
   "metadata": {},
   "source": [
    "## Aggregates\n",
    "Aggregates are used to summarise information in a dataset. They condense many observations down to a single number to describe a property of that variable.\n",
    "\n",
    "In pandas, these aggregates are stored as methods, meaning the general syntax is <code>df_name.method_name(arguments)</code>."
   ]
  },
  {
   "cell_type": "code",
   "execution_count": null,
   "id": "d5fc6131-9628-4f40-a546-bbe79e8a27c8",
   "metadata": {},
   "outputs": [],
   "source": [
    "# find the average pollution"
   ]
  },
  {
   "cell_type": "code",
   "execution_count": null,
   "id": "f17b40d9-50b1-4c31-a07d-eae0d8152a09",
   "metadata": {},
   "outputs": [],
   "source": [
    "# find the max pollution. at what time did this occur?"
   ]
  },
  {
   "cell_type": "code",
   "execution_count": null,
   "id": "398c12ad-59b1-4c19-91cf-cba95d9ce237",
   "metadata": {},
   "outputs": [],
   "source": [
    "# find the percentage of observations that have a temperature below zero"
   ]
  },
  {
   "cell_type": "markdown",
   "id": "fc849ed9-232a-4ee0-85c7-0c436029a5f2",
   "metadata": {},
   "source": [
    "## Visualising Data (introduction)\n",
    "In pandas you can visualise data with the <code>plot</code> method. This method has lots of potential arguments which can be found here: https://pandas.pydata.org/docs/reference/api/pandas.DataFrame.plot.html. The main ones to consider when starting out are:\n",
    "\n",
    "<code>x</code>: this is a label that describes what column of the dataframe goes on the x-axis of the plot. Defaults to the index of the series/dataframe.\n",
    "\n",
    "<code>y</code>: this is a label that describes what column of the dataframe foes on the y-axis of the plot. Defaults to all columns of the series/dataframe.\n",
    "\n",
    "<code>kind</code>: this is a string describing what type of plot to create. Some notable types are given below:\n",
    "* 'line' (default)\n",
    "* 'bar'\n",
    "* 'barh'\n",
    "* 'hist'\n",
    "* 'box'\n",
    "* 'kde' / 'density'\n",
    "* 'pie'\n",
    "* 'scatter'\n"
   ]
  },
  {
   "cell_type": "code",
   "execution_count": null,
   "id": "72e538c9-dfd8-4abb-9a4f-ef54902b6e92",
   "metadata": {},
   "outputs": [],
   "source": [
    "# plot examples"
   ]
  }
 ],
 "metadata": {
  "kernelspec": {
   "display_name": "Python 3 (ipykernel)",
   "language": "python",
   "name": "python3"
  },
  "language_info": {
   "codemirror_mode": {
    "name": "ipython",
    "version": 3
   },
   "file_extension": ".py",
   "mimetype": "text/x-python",
   "name": "python",
   "nbconvert_exporter": "python",
   "pygments_lexer": "ipython3",
   "version": "3.12.8"
  }
 },
 "nbformat": 4,
 "nbformat_minor": 5
}
