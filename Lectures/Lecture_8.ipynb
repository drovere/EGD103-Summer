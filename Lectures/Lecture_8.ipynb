{
 "cells": [
  {
   "cell_type": "markdown",
   "id": "90796524-0b42-48a2-8a8f-e77e9bfa4124",
   "metadata": {},
   "source": [
    "# Lecture 8 of 9 - Data Wrangling and Visualisation with Seaborn"
   ]
  },
  {
   "cell_type": "markdown",
   "id": "2755ede7-5cf8-42be-9b15-6982c1d5d0d8",
   "metadata": {},
   "source": [
    "In this lecture we will explore cyclist count data from Brisbane in 2021. The data was gathered from the Brisbane City Council's open data portal."
   ]
  },
  {
   "cell_type": "code",
   "execution_count": null,
   "id": "ff77a4dc-5acb-4450-b01b-5afa663d733c",
   "metadata": {},
   "outputs": [],
   "source": [
    "# standard imports for data processing\n",
    "import numpy as np\n",
    "import pandas as pd\n",
    "import matplotlib.pyplot as plt\n",
    "import seaborn as sns"
   ]
  },
  {
   "cell_type": "markdown",
   "id": "3ea26463-6351-4476-ae70-541f7068cb04",
   "metadata": {},
   "source": [
    "Import the 'bike-ped-auto-counts-2021.csv' dataset. Ensure the Date column is imported in datetime format and is set as the index of the dataframe. Inspect the data to get a feel for the format."
   ]
  },
  {
   "cell_type": "code",
   "execution_count": null,
   "id": "4512899c-64bb-4938-a4cd-c53f7c7d1c88",
   "metadata": {},
   "outputs": [],
   "source": [
    "# import and inspect data"
   ]
  },
  {
   "cell_type": "markdown",
   "id": "82c4ad48-bec6-4d53-916d-4ace2a3a9df6",
   "metadata": {},
   "source": [
    "## Updating Data\n",
    "There are lots of autocount locations in the data, so let's focus our analysis on a select few. Select the Maritime Museum and Annerley Rd locations. Rename the columns to ones that are more convenient to use. Add day and month columns to the data."
   ]
  },
  {
   "cell_type": "code",
   "execution_count": null,
   "id": "4565726d-290c-47ca-9899-0f10a545789f",
   "metadata": {},
   "outputs": [],
   "source": [
    "# updating data (adding, removing and renaming columns)"
   ]
  },
  {
   "cell_type": "markdown",
   "id": "3390bee7-c538-4f2c-a3bb-377986d30267",
   "metadata": {},
   "source": [
    "## Cleaning Data\n",
    "Now clean the data. This typically requires the following:\n",
    "* Check whether data types are appropriate\n",
    "* Check for missing values\n",
    "* Inspect the data for incorrect values or outliers\n",
    "* Do format checks where appropriate"
   ]
  },
  {
   "cell_type": "code",
   "execution_count": null,
   "id": "bfc4c389-9991-415c-896e-32da4fd6c2d3",
   "metadata": {},
   "outputs": [],
   "source": [
    "# data cleaning"
   ]
  },
  {
   "cell_type": "markdown",
   "id": "b171ce48-4707-4c41-bd2a-4e7101518536",
   "metadata": {},
   "source": [
    "## Joining Data\n",
    "Suppose we want to investigate the effect on climate (eg. temperatures, rainfall) on daily cyclist and pedestrian counts. We could import daily weather data 'BrisbaneDailyWeather.csv' which is gathered from the Bureau of Meteorology. We could then join the datasets together. We need to have an index or column (or set of columns) in common between the datasets in order to join them.\n",
    "\n",
    "Different types of joins / merge\n",
    "* inner (default)\n",
    "* left (use keys from left frame)\n",
    "* right (use keys from right frame)\n",
    "* outer (use keys from both frames)\n",
    "\n",
    "Join is used to join by index, whereas merge is used to join by columns.\n",
    "\n",
    "Can use left_on and right_on arguments if the joining columns have different names."
   ]
  },
  {
   "cell_type": "code",
   "execution_count": null,
   "id": "b1927f4f-36cd-4b10-8d0e-0ce896ee5a0d",
   "metadata": {},
   "outputs": [],
   "source": [
    "# import the 'BrisbaneDailyWeather.csv' file, converting the Data column to datetime format and setting it as the index."
   ]
  },
  {
   "cell_type": "code",
   "execution_count": null,
   "id": "0a08a012-c354-4c0f-bbe4-81cb30fd689c",
   "metadata": {
    "tags": []
   },
   "outputs": [],
   "source": [
    "# join the datasets together, and then determine how climate effects the counts"
   ]
  }
 ],
 "metadata": {
  "kernelspec": {
   "display_name": "Python 3 (ipykernel)",
   "language": "python",
   "name": "python3"
  },
  "language_info": {
   "codemirror_mode": {
    "name": "ipython",
    "version": 3
   },
   "file_extension": ".py",
   "mimetype": "text/x-python",
   "name": "python",
   "nbconvert_exporter": "python",
   "pygments_lexer": "ipython3",
   "version": "3.12.8"
  }
 },
 "nbformat": 4,
 "nbformat_minor": 5
}
