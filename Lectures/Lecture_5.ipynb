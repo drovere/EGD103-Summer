{
 "cells": [
  {
   "cell_type": "markdown",
   "id": "b18e2612-230a-4037-bf77-01d286ea4366",
   "metadata": {},
   "source": [
    "# Workshop 6: Strings and Arrays"
   ]
  },
  {
   "cell_type": "markdown",
   "id": "45c55fcf-05e5-4f88-a667-58a4292670f4",
   "metadata": {},
   "source": [
    "## Strings\n",
    "Strings are a sequence of characters used to form a piece of text. You can create a string with single quotes 'example string' or double quotes \"another example string\". A multi-line quote is created by using three quotes.\n",
    "* Since they are a sequence type, you can apply sequence operations, index, slice, and iterate through each character with a for loop\n",
    "* String methods allow for text to be processed easily\n",
    "* Can use the input function to ask the user for an input\n",
    "* Can use a formatted string to clearly communicate messages to the user\n",
    "\n",
    "More details can be found here: https://docs.python.org/3/library/stdtypes.html#text-sequence-type-str"
   ]
  },
  {
   "cell_type": "code",
   "execution_count": null,
   "id": "e95a4a8c-03b5-439b-956d-78b61d763c93",
   "metadata": {},
   "outputs": [],
   "source": [
    "# examples"
   ]
  },
  {
   "cell_type": "markdown",
   "id": "f9dcc1c0-882c-4ab1-869c-5267dc7b4b5c",
   "metadata": {},
   "source": [
    "## Arrays\n",
    "An array is a data type that represents a collection of data in a structured format. They are similar to lists except:\n",
    "* All elements of an array must be of the same data type.\n",
    "* Arrays can be n-dimensional. For example, a 2-dimensional array would have rows and columns.\n",
    "\n",
    "Arrays don't exist in base Python. To have access to arrays, we need to import the NumPy module.\n",
    "`import numpy as np`\n",
    "\n",
    "NumPy arrays are an ideal data type for handling more complicated mathematical tasks in Python. Some NumPy functionalities include:\n",
    "* Access to element-wise operators\n",
    "* Boolean indexing for filtering\n",
    "* Access to functions and methods for statistics\n",
    "* Access to functions, methods and operators for linear algebra (vectors and matrices)\n",
    "\n",
    "More details can be found here: https://numpy.org/"
   ]
  },
  {
   "cell_type": "code",
   "execution_count": null,
   "id": "5f5f9bdb-d129-466a-afd7-2f38087e2184",
   "metadata": {},
   "outputs": [],
   "source": [
    "# examples"
   ]
  }
 ],
 "metadata": {
  "kernelspec": {
   "display_name": "Python 3 (ipykernel)",
   "language": "python",
   "name": "python3"
  },
  "language_info": {
   "codemirror_mode": {
    "name": "ipython",
    "version": 3
   },
   "file_extension": ".py",
   "mimetype": "text/x-python",
   "name": "python",
   "nbconvert_exporter": "python",
   "pygments_lexer": "ipython3",
   "version": "3.12.8"
  }
 },
 "nbformat": 4,
 "nbformat_minor": 5
}
